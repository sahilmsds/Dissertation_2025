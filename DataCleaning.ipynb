{
 "cells": [
  {
   "cell_type": "code",
   "execution_count": 1,
   "id": "e388a87e-c865-4037-af64-6642a516b306",
   "metadata": {},
   "outputs": [],
   "source": [
    "import pandas as pd\n",
    "import numpy as np"
   ]
  },
  {
   "cell_type": "code",
   "execution_count": 61,
   "id": "d266446e-e2e4-4410-8e23-c83087c799ab",
   "metadata": {},
   "outputs": [
    {
     "name": "stdout",
     "output_type": "stream",
     "text": [
      "Dataset contains 1048575 rows and 42 columns.\n"
     ]
    }
   ],
   "source": [
    "data = pd.read_csv(\"openpowerlifting.csv\", low_memory = False)\n",
    "rows, columns = data.shape\n",
    "print(f\"Dataset contains {rows} rows and {columns} columns.\")"
   ]
  },
  {
   "cell_type": "code",
   "execution_count": 62,
   "id": "27e7a144-9a2c-4981-b3ca-fe92c45323dd",
   "metadata": {},
   "outputs": [
    {
     "name": "stdout",
     "output_type": "stream",
     "text": [
      "Dataset contains 738096 rows and 42 columns.\n"
     ]
    }
   ],
   "source": [
    "data = data.dropna(subset=[\"Age\", \"BodyweightKg\", \"TotalKg\"])\n",
    "rows, columns = data.shape\n",
    "print(f\"Dataset contains {rows} rows and {columns} columns.\")"
   ]
  },
  {
   "cell_type": "code",
   "execution_count": 63,
   "id": "d4a61b09-9b02-4591-994f-d6fbc077ed5a",
   "metadata": {
    "scrolled": true
   },
   "outputs": [
    {
     "name": "stdout",
     "output_type": "stream",
     "text": [
      "Unique values in 'Sex': ['F' 'M' 'Mx']\n",
      "Unique values in 'Equipment': ['Raw' 'Wraps' 'Multi-ply' 'Single-ply' 'Unlimited' 'Straps']\n"
     ]
    }
   ],
   "source": [
    "print(\"Unique values in 'Sex':\", data[\"Sex\"].unique())\n",
    "print(\"Unique values in 'Equipment':\", data[\"Equipment\"].unique())"
   ]
  },
  {
   "cell_type": "code",
   "execution_count": 64,
   "id": "a851a94a-36af-4d00-8468-ae2e2ebf16fe",
   "metadata": {},
   "outputs": [
    {
     "name": "stdout",
     "output_type": "stream",
     "text": [
      "Sex\n",
      "M     511516\n",
      "F     226503\n",
      "Mx        77\n",
      "Name: count, dtype: int64\n",
      "Equipment\n",
      "Raw           509593\n",
      "Single-ply    137972\n",
      "Wraps          65831\n",
      "Multi-ply      20147\n",
      "Unlimited       4509\n",
      "Straps            44\n",
      "Name: count, dtype: int64\n"
     ]
    }
   ],
   "source": [
    "print(data[\"Sex\"].value_counts())\n",
    "print(data[\"Equipment\"].value_counts())"
   ]
  },
  {
   "cell_type": "code",
   "execution_count": 65,
   "id": "dbf366de-fdbc-4321-a4ad-a19065883c5a",
   "metadata": {},
   "outputs": [
    {
     "name": "stdout",
     "output_type": "stream",
     "text": [
      "Dataset after filtering contains 737975 rows and 42 columns.\n"
     ]
    }
   ],
   "source": [
    "# Remove 'Mx' from Sex and 'Straps' from Equipment\n",
    "data = data[(data[\"Sex\"] != \"Mx\") & (data[\"Equipment\"] != \"Straps\")]\n",
    "\n",
    "# Display the updated row count\n",
    "rows, columns = data.shape\n",
    "print(f\"Dataset after filtering contains {rows} rows and {columns} columns.\")\n"
   ]
  },
  {
   "cell_type": "code",
   "execution_count": 66,
   "id": "711477ef-f809-4a73-95c9-10a4d65cf984",
   "metadata": {},
   "outputs": [
    {
     "name": "stdout",
     "output_type": "stream",
     "text": [
      "Dataset after column removal contains 737975 rows and 12 columns.\n"
     ]
    }
   ],
   "source": [
    "columns_to_drop = [\n",
    "    \"MeetName\", \"MeetCountry\", \"MeetState\", \"MeetTown\", \"State\", \"Country\",\n",
    "    \"BirthYearClass\", \"AgeClass\", \"Place\",\n",
    "    \"Squat1Kg\", \"Squat2Kg\", \"Squat3Kg\", \"Squat4Kg\",\n",
    "    \"Bench1Kg\", \"Bench2Kg\", \"Bench3Kg\", \"Bench4Kg\",\n",
    "    \"Deadlift1Kg\", \"Deadlift2Kg\", \"Deadlift3Kg\", \"Deadlift4Kg\",\n",
    "    \"Federation\", \"Sanctioned\", \"Date\", \"Tested\", \"WeightClassKg\", \"Event\", \"Division\", \"ParentFederation\", \"Goodlift\"\n",
    "]\n",
    "\n",
    "# Drop the columns (keeping \"Name\")\n",
    "data = data.drop(columns=columns_to_drop)\n",
    "\n",
    "# Display updated shape\n",
    "print(f\"Dataset after column removal contains {data.shape[0]} rows and {data.shape[1]} columns.\")"
   ]
  },
  {
   "cell_type": "code",
   "execution_count": 67,
   "id": "37970b91-87d0-4fbd-abaf-6aea085ffddf",
   "metadata": {},
   "outputs": [
    {
     "data": {
      "text/plain": [
       "Index(['Name', 'Sex', 'Equipment', 'Age', 'BodyweightKg', 'Best3SquatKg',\n",
       "       'Best3BenchKg', 'Best3DeadliftKg', 'TotalKg', 'Dots', 'Wilks',\n",
       "       'Glossbrenner'],\n",
       "      dtype='object')"
      ]
     },
     "execution_count": 67,
     "metadata": {},
     "output_type": "execute_result"
    }
   ],
   "source": [
    "data.columns"
   ]
  },
  {
   "cell_type": "code",
   "execution_count": 73,
   "id": "1c6d056b-abe9-43f5-b797-5453d0f14b79",
   "metadata": {},
   "outputs": [
    {
     "name": "stdout",
     "output_type": "stream",
     "text": [
      "Dataset after column removal contains 737975 rows and 12 columns.\n"
     ]
    }
   ],
   "source": [
    "data = data[data[\"Age\"] > 0]\n",
    "print(f\"Dataset after column removal contains {data.shape[0]} rows and {data.shape[1]} columns.\")"
   ]
  },
  {
   "cell_type": "code",
   "execution_count": 78,
   "id": "b78f3d92-e8d6-4777-b492-ec4c19907d41",
   "metadata": {},
   "outputs": [
    {
     "name": "stdout",
     "output_type": "stream",
     "text": [
      "Dataset after column removal contains 736621 rows and 12 columns.\n"
     ]
    }
   ],
   "source": [
    "data = data[data['Age'] >= 10]\n",
    "print(f\"Dataset after column removal contains {data.shape[0]} rows and {data.shape[1]} columns.\")"
   ]
  },
  {
   "cell_type": "code",
   "execution_count": 79,
   "id": "1c46fc4b-ac42-411f-a689-09b0352e7009",
   "metadata": {},
   "outputs": [
    {
     "data": {
      "text/plain": [
       "10.0"
      ]
     },
     "execution_count": 79,
     "metadata": {},
     "output_type": "execute_result"
    }
   ],
   "source": [
    "data[\"Age\"].min()"
   ]
  },
  {
   "cell_type": "code",
   "execution_count": 81,
   "id": "95b10d04-c8ac-4837-a712-be9215b31672",
   "metadata": {},
   "outputs": [
    {
     "data": {
      "text/plain": [
       "245.0"
      ]
     },
     "execution_count": 81,
     "metadata": {},
     "output_type": "execute_result"
    }
   ],
   "source": [
    "data[\"BodyweightKg\"].max()"
   ]
  },
  {
   "cell_type": "code",
   "execution_count": 82,
   "id": "51f509f4-8ff7-49e8-a408-f425bf9c215b",
   "metadata": {},
   "outputs": [
    {
     "name": "stdout",
     "output_type": "stream",
     "text": [
      "Number of records with BodyweightKg >= 200: 142\n"
     ]
    },
    {
     "data": {
      "text/html": [
       "<div>\n",
       "<style scoped>\n",
       "    .dataframe tbody tr th:only-of-type {\n",
       "        vertical-align: middle;\n",
       "    }\n",
       "\n",
       "    .dataframe tbody tr th {\n",
       "        vertical-align: top;\n",
       "    }\n",
       "\n",
       "    .dataframe thead th {\n",
       "        text-align: right;\n",
       "    }\n",
       "</style>\n",
       "<table border=\"1\" class=\"dataframe\">\n",
       "  <thead>\n",
       "    <tr style=\"text-align: right;\">\n",
       "      <th></th>\n",
       "      <th>Name</th>\n",
       "      <th>Sex</th>\n",
       "      <th>Equipment</th>\n",
       "      <th>Age</th>\n",
       "      <th>BodyweightKg</th>\n",
       "      <th>Best3SquatKg</th>\n",
       "      <th>Best3BenchKg</th>\n",
       "      <th>Best3DeadliftKg</th>\n",
       "      <th>TotalKg</th>\n",
       "      <th>Dots</th>\n",
       "      <th>Wilks</th>\n",
       "      <th>Glossbrenner</th>\n",
       "    </tr>\n",
       "  </thead>\n",
       "  <tbody>\n",
       "    <tr>\n",
       "      <th>11195</th>\n",
       "      <td>Siamand Rahman</td>\n",
       "      <td>M</td>\n",
       "      <td>Raw</td>\n",
       "      <td>31.0</td>\n",
       "      <td>200.00</td>\n",
       "      <td>NaN</td>\n",
       "      <td>265.00</td>\n",
       "      <td>NaN</td>\n",
       "      <td>265.00</td>\n",
       "      <td>132.57</td>\n",
       "      <td>140.87</td>\n",
       "      <td>131.28</td>\n",
       "    </tr>\n",
       "    <tr>\n",
       "      <th>29004</th>\n",
       "      <td>Thomas Davis #1</td>\n",
       "      <td>M</td>\n",
       "      <td>Raw</td>\n",
       "      <td>26.0</td>\n",
       "      <td>200.40</td>\n",
       "      <td>NaN</td>\n",
       "      <td>300.00</td>\n",
       "      <td>NaN</td>\n",
       "      <td>300.00</td>\n",
       "      <td>150.02</td>\n",
       "      <td>159.47</td>\n",
       "      <td>148.57</td>\n",
       "    </tr>\n",
       "    <tr>\n",
       "      <th>29134</th>\n",
       "      <td>James Brincat-Smith</td>\n",
       "      <td>M</td>\n",
       "      <td>Single-ply</td>\n",
       "      <td>43.5</td>\n",
       "      <td>207.30</td>\n",
       "      <td>NaN</td>\n",
       "      <td>232.50</td>\n",
       "      <td>NaN</td>\n",
       "      <td>232.50</td>\n",
       "      <td>115.49</td>\n",
       "      <td>123.57</td>\n",
       "      <td>114.48</td>\n",
       "    </tr>\n",
       "    <tr>\n",
       "      <th>36540</th>\n",
       "      <td>Florent Veldeman</td>\n",
       "      <td>M</td>\n",
       "      <td>Single-ply</td>\n",
       "      <td>24.5</td>\n",
       "      <td>214.00</td>\n",
       "      <td>315.00</td>\n",
       "      <td>260.00</td>\n",
       "      <td>280.00</td>\n",
       "      <td>855.00</td>\n",
       "      <td>423.76</td>\n",
       "      <td>454.43</td>\n",
       "      <td>418.65</td>\n",
       "    </tr>\n",
       "    <tr>\n",
       "      <th>37848</th>\n",
       "      <td>Scott Squire</td>\n",
       "      <td>M</td>\n",
       "      <td>Raw</td>\n",
       "      <td>47.0</td>\n",
       "      <td>207.00</td>\n",
       "      <td>NaN</td>\n",
       "      <td>190.00</td>\n",
       "      <td>NaN</td>\n",
       "      <td>190.00</td>\n",
       "      <td>94.41</td>\n",
       "      <td>100.99</td>\n",
       "      <td>93.58</td>\n",
       "    </tr>\n",
       "    <tr>\n",
       "      <th>...</th>\n",
       "      <td>...</td>\n",
       "      <td>...</td>\n",
       "      <td>...</td>\n",
       "      <td>...</td>\n",
       "      <td>...</td>\n",
       "      <td>...</td>\n",
       "      <td>...</td>\n",
       "      <td>...</td>\n",
       "      <td>...</td>\n",
       "      <td>...</td>\n",
       "      <td>...</td>\n",
       "      <td>...</td>\n",
       "    </tr>\n",
       "    <tr>\n",
       "      <th>808665</th>\n",
       "      <td>Mason Amato</td>\n",
       "      <td>M</td>\n",
       "      <td>Raw</td>\n",
       "      <td>22.0</td>\n",
       "      <td>206.30</td>\n",
       "      <td>227.50</td>\n",
       "      <td>170.00</td>\n",
       "      <td>205.00</td>\n",
       "      <td>602.50</td>\n",
       "      <td>299.55</td>\n",
       "      <td>320.23</td>\n",
       "      <td>296.92</td>\n",
       "    </tr>\n",
       "    <tr>\n",
       "      <th>810369</th>\n",
       "      <td>Gene Evans</td>\n",
       "      <td>M</td>\n",
       "      <td>Wraps</td>\n",
       "      <td>32.5</td>\n",
       "      <td>216.36</td>\n",
       "      <td>371.95</td>\n",
       "      <td>201.85</td>\n",
       "      <td>310.71</td>\n",
       "      <td>884.51</td>\n",
       "      <td>438.38</td>\n",
       "      <td>470.12</td>\n",
       "      <td>432.24</td>\n",
       "    </tr>\n",
       "    <tr>\n",
       "      <th>811701</th>\n",
       "      <td>Thomas Davis #1</td>\n",
       "      <td>M</td>\n",
       "      <td>Raw</td>\n",
       "      <td>27.0</td>\n",
       "      <td>205.93</td>\n",
       "      <td>NaN</td>\n",
       "      <td>317.51</td>\n",
       "      <td>NaN</td>\n",
       "      <td>317.51</td>\n",
       "      <td>157.91</td>\n",
       "      <td>168.76</td>\n",
       "      <td>156.52</td>\n",
       "    </tr>\n",
       "    <tr>\n",
       "      <th>811702</th>\n",
       "      <td>Julius Maddox</td>\n",
       "      <td>M</td>\n",
       "      <td>Raw</td>\n",
       "      <td>32.0</td>\n",
       "      <td>201.21</td>\n",
       "      <td>NaN</td>\n",
       "      <td>349.27</td>\n",
       "      <td>NaN</td>\n",
       "      <td>349.27</td>\n",
       "      <td>174.51</td>\n",
       "      <td>185.64</td>\n",
       "      <td>172.86</td>\n",
       "    </tr>\n",
       "    <tr>\n",
       "      <th>811736</th>\n",
       "      <td>Gene Evans</td>\n",
       "      <td>M</td>\n",
       "      <td>Wraps</td>\n",
       "      <td>33.0</td>\n",
       "      <td>210.01</td>\n",
       "      <td>303.91</td>\n",
       "      <td>172.37</td>\n",
       "      <td>315.25</td>\n",
       "      <td>791.52</td>\n",
       "      <td>392.29</td>\n",
       "      <td>420.70</td>\n",
       "      <td>388.87</td>\n",
       "    </tr>\n",
       "  </tbody>\n",
       "</table>\n",
       "<p>142 rows × 12 columns</p>\n",
       "</div>"
      ],
      "text/plain": [
       "                       Name Sex   Equipment   Age  BodyweightKg  Best3SquatKg  \\\n",
       "11195        Siamand Rahman   M         Raw  31.0        200.00           NaN   \n",
       "29004       Thomas Davis #1   M         Raw  26.0        200.40           NaN   \n",
       "29134   James Brincat-Smith   M  Single-ply  43.5        207.30           NaN   \n",
       "36540      Florent Veldeman   M  Single-ply  24.5        214.00        315.00   \n",
       "37848          Scott Squire   M         Raw  47.0        207.00           NaN   \n",
       "...                     ...  ..         ...   ...           ...           ...   \n",
       "808665          Mason Amato   M         Raw  22.0        206.30        227.50   \n",
       "810369           Gene Evans   M       Wraps  32.5        216.36        371.95   \n",
       "811701      Thomas Davis #1   M         Raw  27.0        205.93           NaN   \n",
       "811702        Julius Maddox   M         Raw  32.0        201.21           NaN   \n",
       "811736           Gene Evans   M       Wraps  33.0        210.01        303.91   \n",
       "\n",
       "        Best3BenchKg  Best3DeadliftKg  TotalKg    Dots   Wilks  Glossbrenner  \n",
       "11195         265.00              NaN   265.00  132.57  140.87        131.28  \n",
       "29004         300.00              NaN   300.00  150.02  159.47        148.57  \n",
       "29134         232.50              NaN   232.50  115.49  123.57        114.48  \n",
       "36540         260.00           280.00   855.00  423.76  454.43        418.65  \n",
       "37848         190.00              NaN   190.00   94.41  100.99         93.58  \n",
       "...              ...              ...      ...     ...     ...           ...  \n",
       "808665        170.00           205.00   602.50  299.55  320.23        296.92  \n",
       "810369        201.85           310.71   884.51  438.38  470.12        432.24  \n",
       "811701        317.51              NaN   317.51  157.91  168.76        156.52  \n",
       "811702        349.27              NaN   349.27  174.51  185.64        172.86  \n",
       "811736        172.37           315.25   791.52  392.29  420.70        388.87  \n",
       "\n",
       "[142 rows x 12 columns]"
      ]
     },
     "execution_count": 82,
     "metadata": {},
     "output_type": "execute_result"
    }
   ],
   "source": [
    "high_bodyweight = data[data['BodyweightKg'] >= 200]\n",
    "print(f\"Number of records with BodyweightKg >= 200: {high_bodyweight.shape[0]}\")\n",
    "high_bodyweight\n"
   ]
  },
  {
   "cell_type": "code",
   "execution_count": 83,
   "id": "26c1e904-cdd0-4696-aaef-bb1dce02f025",
   "metadata": {},
   "outputs": [
    {
     "name": "stdout",
     "output_type": "stream",
     "text": [
      "Number of records: 87\n"
     ]
    },
    {
     "data": {
      "text/html": [
       "<div>\n",
       "<style scoped>\n",
       "    .dataframe tbody tr th:only-of-type {\n",
       "        vertical-align: middle;\n",
       "    }\n",
       "\n",
       "    .dataframe tbody tr th {\n",
       "        vertical-align: top;\n",
       "    }\n",
       "\n",
       "    .dataframe thead th {\n",
       "        text-align: right;\n",
       "    }\n",
       "</style>\n",
       "<table border=\"1\" class=\"dataframe\">\n",
       "  <thead>\n",
       "    <tr style=\"text-align: right;\">\n",
       "      <th></th>\n",
       "      <th>Name</th>\n",
       "      <th>Sex</th>\n",
       "      <th>Equipment</th>\n",
       "      <th>Age</th>\n",
       "      <th>BodyweightKg</th>\n",
       "      <th>Best3SquatKg</th>\n",
       "      <th>Best3BenchKg</th>\n",
       "      <th>Best3DeadliftKg</th>\n",
       "      <th>TotalKg</th>\n",
       "      <th>Dots</th>\n",
       "      <th>Wilks</th>\n",
       "      <th>Glossbrenner</th>\n",
       "    </tr>\n",
       "  </thead>\n",
       "  <tbody>\n",
       "    <tr>\n",
       "      <th>16271</th>\n",
       "      <td>Tetyana Korostel</td>\n",
       "      <td>F</td>\n",
       "      <td>Raw</td>\n",
       "      <td>10.0</td>\n",
       "      <td>28.0</td>\n",
       "      <td>NaN</td>\n",
       "      <td>NaN</td>\n",
       "      <td>55.0</td>\n",
       "      <td>55.0</td>\n",
       "      <td>81.66</td>\n",
       "      <td>92.09</td>\n",
       "      <td>92.01</td>\n",
       "    </tr>\n",
       "    <tr>\n",
       "      <th>73437</th>\n",
       "      <td>Tetyana Korostel</td>\n",
       "      <td>F</td>\n",
       "      <td>Raw</td>\n",
       "      <td>10.0</td>\n",
       "      <td>28.2</td>\n",
       "      <td>NaN</td>\n",
       "      <td>NaN</td>\n",
       "      <td>50.0</td>\n",
       "      <td>50.0</td>\n",
       "      <td>74.24</td>\n",
       "      <td>83.68</td>\n",
       "      <td>83.62</td>\n",
       "    </tr>\n",
       "    <tr>\n",
       "      <th>73976</th>\n",
       "      <td>Evgeniy Kurinniy</td>\n",
       "      <td>M</td>\n",
       "      <td>Raw</td>\n",
       "      <td>10.0</td>\n",
       "      <td>29.7</td>\n",
       "      <td>NaN</td>\n",
       "      <td>25.0</td>\n",
       "      <td>NaN</td>\n",
       "      <td>25.0</td>\n",
       "      <td>31.78</td>\n",
       "      <td>33.39</td>\n",
       "      <td>33.11</td>\n",
       "    </tr>\n",
       "    <tr>\n",
       "      <th>78580</th>\n",
       "      <td>Tetyana Korostel</td>\n",
       "      <td>F</td>\n",
       "      <td>Raw</td>\n",
       "      <td>10.0</td>\n",
       "      <td>27.5</td>\n",
       "      <td>NaN</td>\n",
       "      <td>NaN</td>\n",
       "      <td>35.0</td>\n",
       "      <td>35.0</td>\n",
       "      <td>51.97</td>\n",
       "      <td>58.66</td>\n",
       "      <td>58.58</td>\n",
       "    </tr>\n",
       "    <tr>\n",
       "      <th>78674</th>\n",
       "      <td>Oleksandr Pavlik</td>\n",
       "      <td>M</td>\n",
       "      <td>Raw</td>\n",
       "      <td>10.0</td>\n",
       "      <td>24.4</td>\n",
       "      <td>NaN</td>\n",
       "      <td>25.0</td>\n",
       "      <td>NaN</td>\n",
       "      <td>25.0</td>\n",
       "      <td>31.78</td>\n",
       "      <td>33.39</td>\n",
       "      <td>33.11</td>\n",
       "    </tr>\n",
       "    <tr>\n",
       "      <th>...</th>\n",
       "      <td>...</td>\n",
       "      <td>...</td>\n",
       "      <td>...</td>\n",
       "      <td>...</td>\n",
       "      <td>...</td>\n",
       "      <td>...</td>\n",
       "      <td>...</td>\n",
       "      <td>...</td>\n",
       "      <td>...</td>\n",
       "      <td>...</td>\n",
       "      <td>...</td>\n",
       "      <td>...</td>\n",
       "    </tr>\n",
       "    <tr>\n",
       "      <th>702111</th>\n",
       "      <td>Natalie Hunt</td>\n",
       "      <td>F</td>\n",
       "      <td>Raw</td>\n",
       "      <td>10.5</td>\n",
       "      <td>28.6</td>\n",
       "      <td>30.0</td>\n",
       "      <td>17.5</td>\n",
       "      <td>32.5</td>\n",
       "      <td>80.0</td>\n",
       "      <td>118.78</td>\n",
       "      <td>133.72</td>\n",
       "      <td>133.71</td>\n",
       "    </tr>\n",
       "    <tr>\n",
       "      <th>709946</th>\n",
       "      <td>Cade Lazarus</td>\n",
       "      <td>M</td>\n",
       "      <td>Raw</td>\n",
       "      <td>11.5</td>\n",
       "      <td>28.0</td>\n",
       "      <td>27.5</td>\n",
       "      <td>15.0</td>\n",
       "      <td>47.5</td>\n",
       "      <td>90.0</td>\n",
       "      <td>114.40</td>\n",
       "      <td>120.19</td>\n",
       "      <td>119.19</td>\n",
       "    </tr>\n",
       "    <tr>\n",
       "      <th>774107</th>\n",
       "      <td>Damian Bortolotti-Lord</td>\n",
       "      <td>M</td>\n",
       "      <td>Raw</td>\n",
       "      <td>10.5</td>\n",
       "      <td>29.7</td>\n",
       "      <td>NaN</td>\n",
       "      <td>25.0</td>\n",
       "      <td>65.0</td>\n",
       "      <td>90.0</td>\n",
       "      <td>114.40</td>\n",
       "      <td>120.19</td>\n",
       "      <td>119.19</td>\n",
       "    </tr>\n",
       "    <tr>\n",
       "      <th>779401</th>\n",
       "      <td>Damian Bortolotti-Lord</td>\n",
       "      <td>M</td>\n",
       "      <td>Raw</td>\n",
       "      <td>10.5</td>\n",
       "      <td>28.8</td>\n",
       "      <td>NaN</td>\n",
       "      <td>25.0</td>\n",
       "      <td>55.0</td>\n",
       "      <td>80.0</td>\n",
       "      <td>101.69</td>\n",
       "      <td>106.83</td>\n",
       "      <td>105.95</td>\n",
       "    </tr>\n",
       "    <tr>\n",
       "      <th>799543</th>\n",
       "      <td>Erin Shaw</td>\n",
       "      <td>F</td>\n",
       "      <td>Wraps</td>\n",
       "      <td>14.0</td>\n",
       "      <td>25.0</td>\n",
       "      <td>37.5</td>\n",
       "      <td>27.5</td>\n",
       "      <td>67.5</td>\n",
       "      <td>132.5</td>\n",
       "      <td>196.74</td>\n",
       "      <td>222.26</td>\n",
       "      <td>221.85</td>\n",
       "    </tr>\n",
       "  </tbody>\n",
       "</table>\n",
       "<p>87 rows × 12 columns</p>\n",
       "</div>"
      ],
      "text/plain": [
       "                          Name Sex Equipment   Age  BodyweightKg  \\\n",
       "16271         Tetyana Korostel   F       Raw  10.0          28.0   \n",
       "73437         Tetyana Korostel   F       Raw  10.0          28.2   \n",
       "73976         Evgeniy Kurinniy   M       Raw  10.0          29.7   \n",
       "78580         Tetyana Korostel   F       Raw  10.0          27.5   \n",
       "78674         Oleksandr Pavlik   M       Raw  10.0          24.4   \n",
       "...                        ...  ..       ...   ...           ...   \n",
       "702111            Natalie Hunt   F       Raw  10.5          28.6   \n",
       "709946            Cade Lazarus   M       Raw  11.5          28.0   \n",
       "774107  Damian Bortolotti-Lord   M       Raw  10.5          29.7   \n",
       "779401  Damian Bortolotti-Lord   M       Raw  10.5          28.8   \n",
       "799543               Erin Shaw   F     Wraps  14.0          25.0   \n",
       "\n",
       "        Best3SquatKg  Best3BenchKg  Best3DeadliftKg  TotalKg    Dots   Wilks  \\\n",
       "16271            NaN           NaN             55.0     55.0   81.66   92.09   \n",
       "73437            NaN           NaN             50.0     50.0   74.24   83.68   \n",
       "73976            NaN          25.0              NaN     25.0   31.78   33.39   \n",
       "78580            NaN           NaN             35.0     35.0   51.97   58.66   \n",
       "78674            NaN          25.0              NaN     25.0   31.78   33.39   \n",
       "...              ...           ...              ...      ...     ...     ...   \n",
       "702111          30.0          17.5             32.5     80.0  118.78  133.72   \n",
       "709946          27.5          15.0             47.5     90.0  114.40  120.19   \n",
       "774107           NaN          25.0             65.0     90.0  114.40  120.19   \n",
       "779401           NaN          25.0             55.0     80.0  101.69  106.83   \n",
       "799543          37.5          27.5             67.5    132.5  196.74  222.26   \n",
       "\n",
       "        Glossbrenner  \n",
       "16271          92.01  \n",
       "73437          83.62  \n",
       "73976          33.11  \n",
       "78580          58.58  \n",
       "78674          33.11  \n",
       "...              ...  \n",
       "702111        133.71  \n",
       "709946        119.19  \n",
       "774107        119.19  \n",
       "779401        105.95  \n",
       "799543        221.85  \n",
       "\n",
       "[87 rows x 12 columns]"
      ]
     },
     "execution_count": 83,
     "metadata": {},
     "output_type": "execute_result"
    }
   ],
   "source": [
    "filtered_data = data[(data['Age'] >= 10) & (data['Age'] <= 15) & (data['BodyweightKg'] < 30)]\n",
    "print(f\"Number of records: {filtered_data.shape[0]}\")\n",
    "filtered_data"
   ]
  },
  {
   "cell_type": "code",
   "execution_count": 84,
   "id": "f1860735-c545-4178-8237-da25146db381",
   "metadata": {},
   "outputs": [
    {
     "name": "stdout",
     "output_type": "stream",
     "text": [
      "                 Missing Values  Percentage\n",
      "Best3SquatKg             226940   30.808245\n",
      "Best3DeadliftKg          174895   23.742875\n",
      "Best3BenchKg              42490    5.768231\n"
     ]
    }
   ],
   "source": [
    "missing_values = data.isnull().sum()\n",
    "missing_percentage = (missing_values / len(data)) * 100\n",
    "\n",
    "missing_df = pd.DataFrame({'Missing Values': missing_values, 'Percentage': missing_percentage})\n",
    "missing_df = missing_df[missing_df['Missing Values'] > 0].sort_values(by='Percentage', ascending=False)\n",
    "\n",
    "print(missing_df)"
   ]
  },
  {
   "cell_type": "code",
   "execution_count": 91,
   "id": "1dc40832-f294-4365-9ab0-3ed5714587b7",
   "metadata": {},
   "outputs": [
    {
     "data": {
      "text/plain": [
       "0"
      ]
     },
     "execution_count": 91,
     "metadata": {},
     "output_type": "execute_result"
    }
   ],
   "source": [
    "data[\"Equipment\"].isnull().sum()"
   ]
  },
  {
   "cell_type": "code",
   "execution_count": 89,
   "id": "57ff8a64-9956-4964-a2aa-b3cd447a4a89",
   "metadata": {},
   "outputs": [
    {
     "name": "stdout",
     "output_type": "stream",
     "text": [
      "Dataset after column removal contains 506544 rows and 12 columns.\n"
     ]
    }
   ],
   "source": [
    "data = data.dropna(subset=[\"Best3SquatKg\", \"Best3DeadliftKg\", \"Best3BenchKg\"])\n",
    "print(f\"Dataset after column removal contains {data.shape[0]} rows and {data.shape[1]} columns.\")"
   ]
  },
  {
   "cell_type": "code",
   "execution_count": null,
   "id": "d1ca7dd9-468e-45fc-9b6b-1a565123c41c",
   "metadata": {},
   "outputs": [],
   "source": []
  }
 ],
 "metadata": {
  "kernelspec": {
   "display_name": "Python 3 (ipykernel)",
   "language": "python",
   "name": "python3"
  },
  "language_info": {
   "codemirror_mode": {
    "name": "ipython",
    "version": 3
   },
   "file_extension": ".py",
   "mimetype": "text/x-python",
   "name": "python",
   "nbconvert_exporter": "python",
   "pygments_lexer": "ipython3",
   "version": "3.12.7"
  }
 },
 "nbformat": 4,
 "nbformat_minor": 5
}
